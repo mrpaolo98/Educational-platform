{
 "cells": [
  {
   "cell_type": "markdown",
   "metadata": {},
   "source": [
    "# Задача\n",
    "\n",
    "К заданию приложен файл `Folds5x2_pp.xlsx`, в котором содержится следующая информация:\n",
    "\n",
    "Данные содержат около 10 тыс наблюдений об электростанции комбинированного цикла, когда электростанция работала с полной загрузкой. У нас есть следующие факторы (усредненные за час):\n",
    "\n",
    "1. Температура (АТ)\n",
    "2. Давление окружающей среды (АР)\n",
    "3. Вытяжной вакуум (V)\n",
    "4. Относительная влажность (RH)\n",
    "\n",
    "Каждая из величин представлена в своих единицах измерения:\n",
    "\n",
    "- Temperature (T) in the range 1.81°C and 37.11°C,\n",
    "- Ambient Pressure (AP) in the range 992.89-1033.30 milibar,\n",
    "- Relative Humidity (RH) in the range 25.56% to 100.16%\n",
    "- Exhaust Vacuum (V) in teh range 25.36-81.56 cm Hg\n",
    "- Net hourly electrical energy output (EP) 420.26-495.76 MW\n",
    "\n",
    "Необходимо предсказать количество отпускаемой электроэнергии в час (EP)."
   ]
  },
  {
   "cell_type": "code",
   "execution_count": 1,
   "metadata": {},
   "outputs": [],
   "source": [
    "import pandas as pd\n",
    "\n",
    "with open('Folds5x2_pp.xlsx', 'rb') as f:\n",
    "    df = pd.read_excel(f)"
   ]
  },
  {
   "cell_type": "code",
   "execution_count": 2,
   "metadata": {},
   "outputs": [
    {
     "data": {
      "text/html": [
       "<div>\n",
       "<style scoped>\n",
       "    .dataframe tbody tr th:only-of-type {\n",
       "        vertical-align: middle;\n",
       "    }\n",
       "\n",
       "    .dataframe tbody tr th {\n",
       "        vertical-align: top;\n",
       "    }\n",
       "\n",
       "    .dataframe thead th {\n",
       "        text-align: right;\n",
       "    }\n",
       "</style>\n",
       "<table border=\"1\" class=\"dataframe\">\n",
       "  <thead>\n",
       "    <tr style=\"text-align: right;\">\n",
       "      <th></th>\n",
       "      <th>AT</th>\n",
       "      <th>V</th>\n",
       "      <th>AP</th>\n",
       "      <th>RH</th>\n",
       "      <th>PE</th>\n",
       "    </tr>\n",
       "  </thead>\n",
       "  <tbody>\n",
       "    <tr>\n",
       "      <th>0</th>\n",
       "      <td>14.96</td>\n",
       "      <td>41.76</td>\n",
       "      <td>1024.07</td>\n",
       "      <td>73.17</td>\n",
       "      <td>463.26</td>\n",
       "    </tr>\n",
       "    <tr>\n",
       "      <th>1</th>\n",
       "      <td>25.18</td>\n",
       "      <td>62.96</td>\n",
       "      <td>1020.04</td>\n",
       "      <td>59.08</td>\n",
       "      <td>444.37</td>\n",
       "    </tr>\n",
       "    <tr>\n",
       "      <th>2</th>\n",
       "      <td>5.11</td>\n",
       "      <td>39.40</td>\n",
       "      <td>1012.16</td>\n",
       "      <td>92.14</td>\n",
       "      <td>488.56</td>\n",
       "    </tr>\n",
       "    <tr>\n",
       "      <th>3</th>\n",
       "      <td>20.86</td>\n",
       "      <td>57.32</td>\n",
       "      <td>1010.24</td>\n",
       "      <td>76.64</td>\n",
       "      <td>446.48</td>\n",
       "    </tr>\n",
       "    <tr>\n",
       "      <th>4</th>\n",
       "      <td>10.82</td>\n",
       "      <td>37.50</td>\n",
       "      <td>1009.23</td>\n",
       "      <td>96.62</td>\n",
       "      <td>473.90</td>\n",
       "    </tr>\n",
       "  </tbody>\n",
       "</table>\n",
       "</div>"
      ],
      "text/plain": [
       "      AT      V       AP     RH      PE\n",
       "0  14.96  41.76  1024.07  73.17  463.26\n",
       "1  25.18  62.96  1020.04  59.08  444.37\n",
       "2   5.11  39.40  1012.16  92.14  488.56\n",
       "3  20.86  57.32  1010.24  76.64  446.48\n",
       "4  10.82  37.50  1009.23  96.62  473.90"
      ]
     },
     "execution_count": 2,
     "metadata": {},
     "output_type": "execute_result"
    }
   ],
   "source": [
    "df.head()"
   ]
  },
  {
   "cell_type": "code",
   "execution_count": 3,
   "metadata": {},
   "outputs": [],
   "source": [
    "from scipy import optimize\n",
    "import numpy as np\n",
    "\n",
    "def func(a):\n",
    "    a1, a2, a3, a4, a5 = a\n",
    "    errors = []\n",
    "    for x1, x2, x3, x4, y in df.values:\n",
    "        errors.append(abs(a1 * x1 + a2 * x2 + a3 * x3 + a4 * x4 + a5 - y))\n",
    "\n",
    "    return np.mean(errors)\n",
    "\n",
    "def func_sq(a):\n",
    "    a1, a2, a3, a4, a5 = a\n",
    "    errors = []\n",
    "    for x1, x2, x3, x4, y in df.values:\n",
    "        errors.append((a1 * x1 + a2 * x2 + a3 * x3 + a4 * x4 + a5 - y)**2)\n",
    "\n",
    "    return np.mean(errors)\n"
   ]
  },
  {
   "cell_type": "code",
   "execution_count": 4,
   "metadata": {
    "scrolled": true
   },
   "outputs": [
    {
     "name": "stdout",
     "output_type": "stream",
     "text": [
      "     fun: 3.613161175174724\n",
      "     jac: array([3.22112441e-03, 1.24759078e-02, 2.12807238e-01, 1.69773698e-02,\n",
      "       2.09033489e-04])\n",
      " message: 'Optimization terminated successfully.'\n",
      "    nfev: 265\n",
      "     nit: 35\n",
      "    njev: 35\n",
      "  status: 0\n",
      " success: True\n",
      "       x: array([-2.03727398e+00, -2.31231127e-01,  3.43900691e-02, -1.57366479e-01,\n",
      "        4.83513292e+02])\n"
     ]
    }
   ],
   "source": [
    "result1 = optimize.minimize(func, [0, 0, 0, 0, 0], method='SLSQP')\n",
    "print(result1)"
   ]
  },
  {
   "cell_type": "code",
   "execution_count": 5,
   "metadata": {
    "scrolled": true
   },
   "outputs": [
    {
     "name": "stdout",
     "output_type": "stream",
     "text": [
      "     fun: 20.76740003086625\n",
      "     jac: array([0.00000000e+00, 2.38418579e-07, 0.00000000e+00, 2.38418579e-07,\n",
      "       0.00000000e+00])\n",
      " message: 'Optimization terminated successfully.'\n",
      "    nfev: 106\n",
      "     nit: 13\n",
      "    njev: 13\n",
      "  status: 0\n",
      " success: True\n",
      "       x: array([-1.97772613e+00, -2.33886851e-01,  6.17621493e-02, -1.58092306e-01,\n",
      "        4.54939703e+02])\n"
     ]
    }
   ],
   "source": [
    "result2 = optimize.minimize(func_sq, [0, 0, 0, 0, 0], method='SLSQP')\n",
    "print(result2)"
   ]
  },
  {
   "cell_type": "code",
   "execution_count": 6,
   "metadata": {
    "scrolled": false
   },
   "outputs": [
    {
     "name": "stdout",
     "output_type": "stream",
     "text": [
      "Введите AT:10\n",
      "Введите V:39\n",
      "Введите AP:1010\n",
      "Введите RH:80\n"
     ]
    }
   ],
   "source": [
    "AT = float(input('Введите AT:'))\n",
    "V = float(input('Введите V:'))\n",
    "AP = float(input('Введите AP:'))\n",
    "RH = float(input('Введите RH:'))"
   ]
  },
  {
   "cell_type": "code",
   "execution_count": 9,
   "metadata": {
    "scrolled": true
   },
   "outputs": [
    {
     "name": "stdout",
     "output_type": "stream",
     "text": [
      "476.2671893579447\n"
     ]
    }
   ],
   "source": [
    "pred1 = np.sum((result1['x']) * np.array([AT, V, AP, RH, 1]))\n",
    "print(pred1)"
   ]
  },
  {
   "cell_type": "code",
   "execution_count": 10,
   "metadata": {},
   "outputs": [
    {
     "name": "stdout",
     "output_type": "stream",
     "text": [
      "475.7732410780833\n"
     ]
    }
   ],
   "source": [
    "pred2 = np.sum((result2['x']) * np.array([AT, V, AP, RH, 1]))\n",
    "print(pred2)"
   ]
  }
 ],
 "metadata": {
  "kernelspec": {
   "display_name": "Python 3",
   "language": "python",
   "name": "python3"
  },
  "language_info": {
   "codemirror_mode": {
    "name": "ipython",
    "version": 3
   },
   "file_extension": ".py",
   "mimetype": "text/x-python",
   "name": "python",
   "nbconvert_exporter": "python",
   "pygments_lexer": "ipython3",
   "version": "3.7.3"
  }
 },
 "nbformat": 4,
 "nbformat_minor": 2
}
