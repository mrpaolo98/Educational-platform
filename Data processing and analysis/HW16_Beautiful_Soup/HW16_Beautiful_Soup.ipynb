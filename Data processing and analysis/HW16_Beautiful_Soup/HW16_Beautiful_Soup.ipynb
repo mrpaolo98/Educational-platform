{
 "cells": [
  {
   "cell_type": "markdown",
   "metadata": {},
   "source": [
    "## Задача\n",
    "\n",
    "Фильмовый хостинг: imdb.com\n",
    "\n",
    "1. Распарсите страницу с определенной категорией фильмов.\n",
    "2. Достаньте следующую информацию (разумеется та, которая присутствует на вашем сайте):\n",
    "  * оценки для каждого фильма,\n",
    "  * бюджет фильма, \n",
    "  * сборы в США или мире,\n",
    "  * продолжительность фильма,\n",
    "  * режисер,\n",
    "  * сюжет или описание.\n",
    "3. Воспользуйтесь своим кодом и распарсите странице другой категории, достав те же параметры.\n",
    "4. Сравните фильмы из двух категорий: где больше средний рейтинг, каково распределение оценок, где выше бюджет/кассовость? Где больше средняя продолжительность (постройте распределения по продолжительности в 2 категориях)?\n",
    "\n",
    "В каждой категории нужно достать минимум 25-30 фильмов.\n",
    "\n",
    "**ВАЖНО!** Помните о том, что необходимо \"замедлять\" запросы к сервису, производить запросы из ранее указанных браузерных конфигураций."
   ]
  },
  {
   "cell_type": "markdown",
   "metadata": {},
   "source": [
    "https://www.imdb.com/search/title/?genres=comedy"
   ]
  },
  {
   "cell_type": "code",
   "execution_count": 1,
   "metadata": {},
   "outputs": [
    {
     "name": "stdout",
     "output_type": "stream",
     "text": [
      "Collecting selenium\n",
      "  Downloading https://files.pythonhosted.org/packages/80/d6/4294f0b4bce4de0abf13e17190289f9d0613b0a44e5dd6a7f5ca98459853/selenium-3.141.0-py2.py3-none-any.whl (904kB)\n",
      "Requirement already satisfied: urllib3 in c:\\programdata\\anaconda3\\lib\\site-packages (from selenium) (1.24.1)\n",
      "Installing collected packages: selenium\n",
      "Successfully installed selenium-3.141.0\n"
     ]
    }
   ],
   "source": [
    "!pip install selenium"
   ]
  },
  {
   "cell_type": "code",
   "execution_count": 2,
   "metadata": {},
   "outputs": [],
   "source": [
    "import selenium"
   ]
  },
  {
   "cell_type": "code",
   "execution_count": 3,
   "metadata": {},
   "outputs": [],
   "source": [
    "from selenium import webdriver\n",
    "from bs4 import BeautifulSoup\n",
    "import requests"
   ]
  },
  {
   "cell_type": "code",
   "execution_count": 4,
   "metadata": {},
   "outputs": [],
   "source": [
    "driver = webdriver.Chrome('C:/Users/pro10/Downloads/chromedriver_win32/chromedriver.exe')"
   ]
  },
  {
   "cell_type": "code",
   "execution_count": 5,
   "metadata": {},
   "outputs": [],
   "source": [
    "def get_soup(url):\n",
    "    driver.get(url)\n",
    "    return BeautifulSoup(driver.page_source)"
   ]
  },
  {
   "cell_type": "code",
   "execution_count": 51,
   "metadata": {},
   "outputs": [],
   "source": [
    "url = 'https://www.imdb.com/search/title/?genres=animation'\n",
    "\n",
    "soup = get_soup(url)"
   ]
  },
  {
   "cell_type": "code",
   "execution_count": 58,
   "metadata": {},
   "outputs": [],
   "source": [
    "film_list1 = []\n",
    "for div in soup.find_all('div', class_ = \"lister-item-content\"):\n",
    "    title = div.find('h3').a.text\n",
    "    try:\n",
    "        time = div.find('span', class_ = \"runtime\").text.split(' ')[0]\n",
    "    except:\n",
    "        time = None\n",
    "    try:\n",
    "        rate = div.find('div', class_ = \"inline-block ratings-imdb-rating\").strong.text.replace(',', '.')\n",
    "    except:\n",
    "        rate = None\n",
    "    desc = div.find_all('p', class_ = 'text-muted')[1].text.strip()\n",
    "    try:\n",
    "        votes = div.find('p', class_ = 'sort-num_votes-visible').find('span', attrs={'name' : \"nv\"}).text.replace(u'\\xa0', '')\n",
    "    except:\n",
    "        votes = None\n",
    "    film_list1.append((title, time, rate, desc, votes))"
   ]
  },
  {
   "cell_type": "code",
   "execution_count": 59,
   "metadata": {},
   "outputs": [
    {
     "name": "stdout",
     "output_type": "stream",
     "text": [
      "[('Звёздные войны: Войны Клонов', '23', '8.1', 'Jedi Knights lead the Grand Army of the Republic against the droid army of the Separatists.', '44555'), ('Рик и Морти', '23', '9.3', 'An animated series that follows the exploits of a super scientist and his not-so-bright grandson.', '318157'), ('Холодное сердце 2', '103', '7.2', \"Anna, Elsa, Kristoff, Olaf and Sven leave Arendelle to travel to an ancient, autumn-bound forest of an enchanted land. They set out to find the origin of Elsa's powers in order to save their kingdom.\", '62297'), ('Симпсоны', '22', '8.7', 'The satiric adventures of a working-class family in the misfit city of Springfield.', '345506'), ('Король Лев', '118', '7.0', 'After the murder of his father, a young lion prince flees his kingdom only to learn the true meaning of responsibility and bravery.', '158375')]\n"
     ]
    }
   ],
   "source": [
    "print(film_list1[:5])"
   ]
  },
  {
   "cell_type": "code",
   "execution_count": 62,
   "metadata": {},
   "outputs": [],
   "source": [
    "url = 'https://www.imdb.com/search/title/?genres=biography' \n",
    "\n",
    "soup = get_soup(url)"
   ]
  },
  {
   "cell_type": "code",
   "execution_count": 63,
   "metadata": {},
   "outputs": [],
   "source": [
    "film_list2 = []\n",
    "for div in soup.find_all('div', class_ = \"lister-item-content\"):\n",
    "    title = div.find('h3').a.text\n",
    "    try:\n",
    "        time = div.find('span', class_ = \"runtime\").text.split(' ')[0]\n",
    "    except:\n",
    "        time = None\n",
    "    try:\n",
    "        rate = div.find('div', class_ = \"inline-block ratings-imdb-rating\").strong.text.replace(',', '.')\n",
    "    except:\n",
    "        rate = None\n",
    "    desc = div.find_all('p', class_ = 'text-muted')[1].text.strip()\n",
    "    try:\n",
    "        votes = div.find('p', class_ = 'sort-num_votes-visible').find('span', attrs={'name' : \"nv\"}).text.replace(u'\\xa0', '')\n",
    "    except:\n",
    "        votes = None\n",
    "    film_list2.append((title, time, rate, desc, votes))"
   ]
  },
  {
   "cell_type": "code",
   "execution_count": 64,
   "metadata": {},
   "outputs": [
    {
     "name": "stdout",
     "output_type": "stream",
     "text": [
      "[('Ирландец', '209', '8.0', 'A mob hitman recalls his friend Jimmy Hoffa.', '217365'), ('Скандал', '109', '6.8', 'A group of women take on Fox News head Roger Ailes and the toxic atmosphere he presided over at the network.', '21992'), ('Ford против Ferrari', '152', '8.2', 'American car designer Carroll Shelby and driver Ken Miles battle corporate interference, the laws of physics and their own personal demons to build a revolutionary race car for Ford and challenge Ferrari at the 24 Hours of Le Mans in 1966.', '102091'), ('Тёмные воды', '126', '7.6', 'A corporate defense attorney takes on an environmental lawsuit against a chemical company that exposes a lengthy history of pollution.', '8218'), ('Два Папы', '125', '7.6', 'Behind Vatican walls, the conservative Pope Benedict and the liberal future Pope Francis must find common ground to forge a new path for the Catholic Church.', '59819')]\n"
     ]
    }
   ],
   "source": [
    "print(film_list2[:5])"
   ]
  },
  {
   "cell_type": "code",
   "execution_count": 65,
   "metadata": {},
   "outputs": [],
   "source": [
    "import pandas as pd\n",
    "import numpy as np"
   ]
  },
  {
   "cell_type": "code",
   "execution_count": 66,
   "metadata": {},
   "outputs": [],
   "source": [
    "df1 = pd.DataFrame(film_list1, columns =['Название', 'Продолжительность', 'Рейтинг', 'Описание','Оценки'])"
   ]
  },
  {
   "cell_type": "code",
   "execution_count": 67,
   "metadata": {},
   "outputs": [
    {
     "data": {
      "text/html": [
       "<div>\n",
       "<style scoped>\n",
       "    .dataframe tbody tr th:only-of-type {\n",
       "        vertical-align: middle;\n",
       "    }\n",
       "\n",
       "    .dataframe tbody tr th {\n",
       "        vertical-align: top;\n",
       "    }\n",
       "\n",
       "    .dataframe thead th {\n",
       "        text-align: right;\n",
       "    }\n",
       "</style>\n",
       "<table border=\"1\" class=\"dataframe\">\n",
       "  <thead>\n",
       "    <tr style=\"text-align: right;\">\n",
       "      <th></th>\n",
       "      <th>Название</th>\n",
       "      <th>Продолжительность</th>\n",
       "      <th>Рейтинг</th>\n",
       "      <th>Описание</th>\n",
       "      <th>Оценки</th>\n",
       "    </tr>\n",
       "  </thead>\n",
       "  <tbody>\n",
       "    <tr>\n",
       "      <th>0</th>\n",
       "      <td>Звёздные войны: Войны Клонов</td>\n",
       "      <td>23</td>\n",
       "      <td>8.1</td>\n",
       "      <td>Jedi Knights lead the Grand Army of the Republ...</td>\n",
       "      <td>44555</td>\n",
       "    </tr>\n",
       "    <tr>\n",
       "      <th>1</th>\n",
       "      <td>Рик и Морти</td>\n",
       "      <td>23</td>\n",
       "      <td>9.3</td>\n",
       "      <td>An animated series that follows the exploits o...</td>\n",
       "      <td>318157</td>\n",
       "    </tr>\n",
       "    <tr>\n",
       "      <th>2</th>\n",
       "      <td>Холодное сердце 2</td>\n",
       "      <td>103</td>\n",
       "      <td>7.2</td>\n",
       "      <td>Anna, Elsa, Kristoff, Olaf and Sven leave Aren...</td>\n",
       "      <td>62297</td>\n",
       "    </tr>\n",
       "    <tr>\n",
       "      <th>3</th>\n",
       "      <td>Симпсоны</td>\n",
       "      <td>22</td>\n",
       "      <td>8.7</td>\n",
       "      <td>The satiric adventures of a working-class fami...</td>\n",
       "      <td>345506</td>\n",
       "    </tr>\n",
       "    <tr>\n",
       "      <th>4</th>\n",
       "      <td>Король Лев</td>\n",
       "      <td>118</td>\n",
       "      <td>7.0</td>\n",
       "      <td>After the murder of his father, a young lion p...</td>\n",
       "      <td>158375</td>\n",
       "    </tr>\n",
       "  </tbody>\n",
       "</table>\n",
       "</div>"
      ],
      "text/plain": [
       "                       Название Продолжительность Рейтинг  \\\n",
       "0  Звёздные войны: Войны Клонов                23     8.1   \n",
       "1                   Рик и Морти                23     9.3   \n",
       "2             Холодное сердце 2               103     7.2   \n",
       "3                      Симпсоны                22     8.7   \n",
       "4                    Король Лев               118     7.0   \n",
       "\n",
       "                                            Описание  Оценки  \n",
       "0  Jedi Knights lead the Grand Army of the Republ...   44555  \n",
       "1  An animated series that follows the exploits o...  318157  \n",
       "2  Anna, Elsa, Kristoff, Olaf and Sven leave Aren...   62297  \n",
       "3  The satiric adventures of a working-class fami...  345506  \n",
       "4  After the murder of his father, a young lion p...  158375  "
      ]
     },
     "execution_count": 67,
     "metadata": {},
     "output_type": "execute_result"
    }
   ],
   "source": [
    "df1 = df1.replace(to_replace='None', value=np.nan).dropna()\n",
    "df1.head()"
   ]
  },
  {
   "cell_type": "code",
   "execution_count": 68,
   "metadata": {},
   "outputs": [],
   "source": [
    "df2= pd.DataFrame(film_list2,columns=['Название', 'Продолжительность', 'Рейтинг', 'Описание','Оценки'])"
   ]
  },
  {
   "cell_type": "code",
   "execution_count": 82,
   "metadata": {},
   "outputs": [
    {
     "data": {
      "text/html": [
       "<div>\n",
       "<style scoped>\n",
       "    .dataframe tbody tr th:only-of-type {\n",
       "        vertical-align: middle;\n",
       "    }\n",
       "\n",
       "    .dataframe tbody tr th {\n",
       "        vertical-align: top;\n",
       "    }\n",
       "\n",
       "    .dataframe thead th {\n",
       "        text-align: right;\n",
       "    }\n",
       "</style>\n",
       "<table border=\"1\" class=\"dataframe\">\n",
       "  <thead>\n",
       "    <tr style=\"text-align: right;\">\n",
       "      <th></th>\n",
       "      <th>Название</th>\n",
       "      <th>Продолжительность</th>\n",
       "      <th>Рейтинг</th>\n",
       "      <th>Описание</th>\n",
       "      <th>Оценки</th>\n",
       "    </tr>\n",
       "  </thead>\n",
       "  <tbody>\n",
       "    <tr>\n",
       "      <th>0</th>\n",
       "      <td>Ирландец</td>\n",
       "      <td>209</td>\n",
       "      <td>8.0</td>\n",
       "      <td>A mob hitman recalls his friend Jimmy Hoffa.</td>\n",
       "      <td>217365</td>\n",
       "    </tr>\n",
       "    <tr>\n",
       "      <th>1</th>\n",
       "      <td>Скандал</td>\n",
       "      <td>109</td>\n",
       "      <td>6.8</td>\n",
       "      <td>A group of women take on Fox News head Roger A...</td>\n",
       "      <td>21992</td>\n",
       "    </tr>\n",
       "    <tr>\n",
       "      <th>2</th>\n",
       "      <td>Ford против Ferrari</td>\n",
       "      <td>152</td>\n",
       "      <td>8.2</td>\n",
       "      <td>American car designer Carroll Shelby and drive...</td>\n",
       "      <td>102091</td>\n",
       "    </tr>\n",
       "    <tr>\n",
       "      <th>3</th>\n",
       "      <td>Тёмные воды</td>\n",
       "      <td>126</td>\n",
       "      <td>7.6</td>\n",
       "      <td>A corporate defense attorney takes on an envir...</td>\n",
       "      <td>8218</td>\n",
       "    </tr>\n",
       "    <tr>\n",
       "      <th>4</th>\n",
       "      <td>Два Папы</td>\n",
       "      <td>125</td>\n",
       "      <td>7.6</td>\n",
       "      <td>Behind Vatican walls, the conservative Pope Be...</td>\n",
       "      <td>59819</td>\n",
       "    </tr>\n",
       "  </tbody>\n",
       "</table>\n",
       "</div>"
      ],
      "text/plain": [
       "              Название Продолжительность Рейтинг  \\\n",
       "0             Ирландец               209     8.0   \n",
       "1              Скандал               109     6.8   \n",
       "2  Ford против Ferrari               152     8.2   \n",
       "3          Тёмные воды               126     7.6   \n",
       "4             Два Папы               125     7.6   \n",
       "\n",
       "                                            Описание  Оценки  \n",
       "0       A mob hitman recalls his friend Jimmy Hoffa.  217365  \n",
       "1  A group of women take on Fox News head Roger A...   21992  \n",
       "2  American car designer Carroll Shelby and drive...  102091  \n",
       "3  A corporate defense attorney takes on an envir...    8218  \n",
       "4  Behind Vatican walls, the conservative Pope Be...   59819  "
      ]
     },
     "execution_count": 82,
     "metadata": {},
     "output_type": "execute_result"
    }
   ],
   "source": [
    "df2 = df2.replace(to_replace='None', value=np.nan).dropna()\n",
    "df2.head()"
   ]
  },
  {
   "cell_type": "code",
   "execution_count": 71,
   "metadata": {},
   "outputs": [],
   "source": [
    "from scipy import stats\n",
    "import matplotlib.pyplot as plt\n",
    "import seaborn as sns\n",
    "%matplotlib inline"
   ]
  },
  {
   "cell_type": "code",
   "execution_count": 75,
   "metadata": {},
   "outputs": [],
   "source": [
    "rate_a = np.mean(df1['Рейтинг'].astype(float))\n",
    "rate_b = np.mean(df2['Рейтинг'].astype(float))"
   ]
  },
  {
   "cell_type": "code",
   "execution_count": 76,
   "metadata": {
    "scrolled": true
   },
   "outputs": [
    {
     "name": "stdout",
     "output_type": "stream",
     "text": [
      "Средняя оценка анимационных фильмов больше\n"
     ]
    }
   ],
   "source": [
    "if rate_a > rate_b:\n",
    "    print('Средняя оценка анимационных фильмов больше')\n",
    "else:\n",
    "    print('Средняя оценка биографических фильмов больше')"
   ]
  },
  {
   "cell_type": "code",
   "execution_count": 86,
   "metadata": {},
   "outputs": [
    {
     "data": {
      "text/plain": [
       "<matplotlib.axes._subplots.AxesSubplot at 0x24ad1591198>"
      ]
     },
     "execution_count": 86,
     "metadata": {},
     "output_type": "execute_result"
    },
    {
     "data": {
      "image/png": "[encoded data removed]",
      "text/plain": [
       "<Figure size 432x288 with 1 Axes>"
      ]
     },
     "metadata": {
      "needs_background": "light"
     },
     "output_type": "display_data"
    }
   ],
   "source": [
    "sns.distplot(df1['Рейтинг'].astype(float), kde=False, axlabel='Рейтинг анимационных фильмов')"
   ]
  },
  {
   "cell_type": "code",
   "execution_count": 87,
   "metadata": {},
   "outputs": [
    {
     "data": {
      "text/plain": [
       "<matplotlib.axes._subplots.AxesSubplot at 0x24ad105e2e8>"
      ]
     },
     "execution_count": 87,
     "metadata": {},
     "output_type": "execute_result"
    },
    {
     "data": {
      "image/png": "[encoded data removed]",
      "text/plain": [
       "<Figure size 432x288 with 1 Axes>"
      ]
     },
     "metadata": {
      "needs_background": "light"
     },
     "output_type": "display_data"
    }
   ],
   "source": [
    "sns.distplot(df2['Рейтинг'].astype(float), kde=False, axlabel='Рейтинг биографических фильмов')"
   ]
  },
  {
   "cell_type": "code",
   "execution_count": 88,
   "metadata": {},
   "outputs": [
    {
     "data": {
      "text/plain": [
       "<matplotlib.axes._subplots.AxesSubplot at 0x24ad161cda0>"
      ]
     },
     "execution_count": 88,
     "metadata": {},
     "output_type": "execute_result"
    },
    {
     "data": {
      "image/png": "[encoded data removed]",
      "text/plain": [
       "<Figure size 432x288 with 1 Axes>"
      ]
     },
     "metadata": {
      "needs_background": "light"
     },
     "output_type": "display_data"
    }
   ],
   "source": [
    "sns.distplot(df1['Продолжительность'].astype(int), kde=False, axlabel='Продолжительность анимационных фильмов')"
   ]
  },
  {
   "cell_type": "code",
   "execution_count": 89,
   "metadata": {
    "scrolled": true
   },
   "outputs": [
    {
     "data": {
      "text/plain": [
       "<matplotlib.axes._subplots.AxesSubplot at 0x24ad0e957b8>"
      ]
     },
     "execution_count": 89,
     "metadata": {},
     "output_type": "execute_result"
    },
    {
     "data": {
      "image/png": "[encoded data removed]",
      "text/plain": [
       "<Figure size 432x288 with 1 Axes>"
      ]
     },
     "metadata": {
      "needs_background": "light"
     },
     "output_type": "display_data"
    }
   ],
   "source": [
    "sns.distplot(df2['Продолжительность'].astype(int), kde=False, axlabel='Продолжительность биографических фильмов')"
   ]
  }
 ],
 "metadata": {
  "kernelspec": {
   "display_name": "Python 3",
   "language": "python",
   "name": "python3"
  },
  "language_info": {
   "codemirror_mode": {
    "name": "ipython",
    "version": 3
   },
   "file_extension": ".py",
   "mimetype": "text/x-python",
   "name": "python",
   "nbconvert_exporter": "python",
   "pygments_lexer": "ipython3",
   "version": "3.7.3"
  }
 },
 "nbformat": 4,
 "nbformat_minor": 2
}
