{
 "cells": [
  {
   "cell_type": "markdown",
   "metadata": {},
   "source": [
    "### Написать класс итератор, принимающий другой итератор, но возвращающий только числа. OnlyNumber"
   ]
  },
  {
   "cell_type": "code",
   "execution_count": 70,
   "metadata": {},
   "outputs": [],
   "source": [
    "import numbers\n",
    "\n",
    "class OnlyNumber:\n",
    "    def __init__(self, itr):\n",
    "        self.itr = []\n",
    "        self.skip = []\n",
    "        for item in itr:         \n",
    "            if isinstance(item, numbers.Number):\n",
    "                self.itr.append(item)\n",
    "            else:\n",
    "                self.skip.append(item)\n",
    "        self.i = 0\n",
    "        \n",
    "    def __iter__(self):\n",
    "        return self\n",
    "    \n",
    "    def __next__(self):\n",
    "        lst1 = self.itr\n",
    "        if self.i < len(self.itr):\n",
    "            self.i += 1\n",
    "            return self.itr[self.i - 1]\n",
    "        else:\n",
    "            raise StopIteration\n",
    "            \n",
    "    def skipped_items(self):\n",
    "        return list(self.skip)"
   ]
  },
  {
   "cell_type": "code",
   "execution_count": 71,
   "metadata": {
    "pycharm": {
     "name": "#%%\n"
    }
   },
   "outputs": [
    {
     "name": "stdout",
     "output_type": "stream",
     "text": [
      "1\n",
      "2\n",
      "3\n",
      "1.0\n"
     ]
    }
   ],
   "source": [
    "it = OnlyNumber([1, 2, 3, 'not a number', 1.0, '1'])\n",
    "\n",
    "for item in it:\n",
    "    print(item)\n",
    "\n",
    "# printed: 1, 2, 3, 1.0"
   ]
  },
  {
   "cell_type": "markdown",
   "metadata": {},
   "source": [
    "### Добавить возможность получить отброшенные элементы"
   ]
  },
  {
   "cell_type": "code",
   "execution_count": 72,
   "metadata": {
    "pycharm": {
     "name": "#%%\n"
    }
   },
   "outputs": [
    {
     "data": {
      "text/plain": [
       "['not a number', '1']"
      ]
     },
     "execution_count": 72,
     "metadata": {},
     "output_type": "execute_result"
    }
   ],
   "source": [
    "it.skipped_items() # ['not a number', '1']"
   ]
  },
  {
   "cell_type": "markdown",
   "metadata": {},
   "source": [
    "### Переписать класс в генератор(отброшенные элементы не нужно получать)"
   ]
  },
  {
   "cell_type": "code",
   "execution_count": 96,
   "metadata": {},
   "outputs": [],
   "source": [
    "import numbers\n",
    "\n",
    "def only_number(lst1):\n",
    "    for item in lst1:  \n",
    "        if isinstance(item, numbers.Number):\n",
    "            yield item"
   ]
  },
  {
   "cell_type": "code",
   "execution_count": 97,
   "metadata": {
    "pycharm": {
     "name": "#%%\n"
    }
   },
   "outputs": [
    {
     "name": "stdout",
     "output_type": "stream",
     "text": [
      "1\n",
      "2\n",
      "3\n",
      "1.0\n"
     ]
    }
   ],
   "source": [
    "it = only_number([1, 2, 3, 'not a number', 1.0, '1'])\n",
    "\n",
    "for item in it:\n",
    "    print(item)\n",
    "\n",
    "# printed: 1, 2, 3, 1.0"
   ]
  },
  {
   "cell_type": "markdown",
   "metadata": {},
   "source": [
    "### Изменить класс так, что бы можно было получать класс(какие элементы оставить)"
   ]
  },
  {
   "cell_type": "code",
   "execution_count": 85,
   "metadata": {},
   "outputs": [],
   "source": [
    "class Only:\n",
    "    def __init__(self, itr, tp):\n",
    "        self.itr = []\n",
    "        self.skip = []\n",
    "        for item in itr:         \n",
    "            if isinstance(item, tp):\n",
    "                self.itr.append(item)\n",
    "            else:\n",
    "                self.skip.append(item)\n",
    "        self.i = 0\n",
    "        \n",
    "    def __iter__(self):\n",
    "        return self\n",
    "    \n",
    "    def __next__(self):\n",
    "        lst1 = self.itr\n",
    "        if self.i < len(self.itr):\n",
    "            self.i += 1\n",
    "            return self.itr[self.i - 1]\n",
    "        else:\n",
    "            raise StopIteration"
   ]
  },
  {
   "cell_type": "code",
   "execution_count": 86,
   "metadata": {
    "pycharm": {
     "name": "#%%\n"
    }
   },
   "outputs": [
    {
     "name": "stdout",
     "output_type": "stream",
     "text": [
      "1\n",
      "2\n",
      "3\n",
      "1.0\n"
     ]
    }
   ],
   "source": [
    "import numbers\n",
    "\n",
    "it = Only([1, 2, 3, 'not a number', 1.0, '1'], numbers.Number)\n",
    "for item in it:\n",
    "    print(item)\n",
    "\n",
    "# printed: 1, 2, 3, 1.0"
   ]
  },
  {
   "cell_type": "code",
   "execution_count": 87,
   "metadata": {
    "pycharm": {
     "name": "#%%\n"
    }
   },
   "outputs": [
    {
     "name": "stdout",
     "output_type": "stream",
     "text": [
      "not a number\n",
      "1\n"
     ]
    }
   ],
   "source": [
    "it = Only([1, 2, 3, 'not a number', 1.0, '1'], str)\n",
    "for item in it:\n",
    "    print(item)\n",
    "# printed: 'not a number', '1'"
   ]
  },
  {
   "cell_type": "markdown",
   "metadata": {},
   "source": [
    "### Переписать Only в герератор"
   ]
  },
  {
   "cell_type": "code",
   "execution_count": 100,
   "metadata": {},
   "outputs": [],
   "source": [
    "def only(lst1, tp):\n",
    "    for item in lst1:  \n",
    "        if isinstance(item, tp):\n",
    "            yield item"
   ]
  },
  {
   "cell_type": "code",
   "execution_count": 102,
   "metadata": {
    "pycharm": {
     "name": "#%%\n"
    }
   },
   "outputs": [
    {
     "name": "stdout",
     "output_type": "stream",
     "text": [
      "not a number\n",
      "1\n"
     ]
    }
   ],
   "source": [
    "it = only([1, 2, 3, 'not a number', 1.0, '1'], str)\n",
    "for item in it:\n",
    "    print(item)\n",
    "# printed: 'not a number', '1'\n"
   ]
  }
 ],
 "metadata": {
  "kernelspec": {
   "display_name": "Python 3",
   "language": "python",
   "name": "python3"
  },
  "language_info": {
   "codemirror_mode": {
    "name": "ipython",
    "version": 3
   },
   "file_extension": ".py",
   "mimetype": "text/x-python",
   "name": "python",
   "nbconvert_exporter": "python",
   "pygments_lexer": "ipython3",
   "version": "3.7.3"
  },
  "pycharm": {
   "stem_cell": {
    "cell_type": "raw",
    "metadata": {
     "collapsed": false
    },
    "source": []
   }
  }
 },
 "nbformat": 4,
 "nbformat_minor": 2
}
