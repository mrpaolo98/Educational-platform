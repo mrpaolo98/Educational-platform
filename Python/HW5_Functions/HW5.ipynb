{
 "cells": [
  {
   "cell_type": "markdown",
   "metadata": {},
   "source": [
    "# Задача 1\n",
    "\n",
    "Создать функцию (через `def`), которая принимает на вход два значения - длины противоположных сторон прямоугольника. Возвращать через `return` функция должна площадь прямоугольника. Вызвать функцию с различными значениями длин сторон."
   ]
  },
  {
   "cell_type": "code",
   "execution_count": 8,
   "metadata": {},
   "outputs": [],
   "source": [
    "def square(a,b):\n",
    "    return a*b"
   ]
  },
  {
   "cell_type": "code",
   "execution_count": 9,
   "metadata": {
    "scrolled": true
   },
   "outputs": [
    {
     "name": "stdout",
     "output_type": "stream",
     "text": [
      "72\n"
     ]
    }
   ],
   "source": [
    "print(square(8,9))"
   ]
  },
  {
   "cell_type": "code",
   "execution_count": 10,
   "metadata": {},
   "outputs": [
    {
     "name": "stdout",
     "output_type": "stream",
     "text": [
      "8\n"
     ]
    }
   ],
   "source": [
    "print(square(2,4))"
   ]
  },
  {
   "cell_type": "markdown",
   "metadata": {},
   "source": [
    "# Задача 2\n",
    "\n",
    "Создать функцию, принимающую на вход список, содержащий целочисленные элементы. Найдите в списке медиану. Верните значение медианы с помощью `return`. Вызвать функцию несколько раз с различными списками на вход"
   ]
  },
  {
   "cell_type": "markdown",
   "metadata": {},
   "source": [
    "Пример работы\n",
    "\n",
    "`median([1, 1, 2]) => 1`  \n",
    "`median([3, 2, 5, 1, 4]) => 3`  \n",
    "`median([0, 0, 1, 5, 1, 10, 8]) => 1`"
   ]
  },
  {
   "cell_type": "markdown",
   "metadata": {},
   "source": [
    "**Подсказки**  \n",
    "Можно использовать:"
   ]
  },
  {
   "cell_type": "code",
   "execution_count": 4,
   "metadata": {},
   "outputs": [
    {
     "name": "stdout",
     "output_type": "stream",
     "text": [
      "[1, 2, 3, 4, 5]\n"
     ]
    }
   ],
   "source": [
    "lst = [3, 2, 5, 1, 4]\n",
    "lst.sort()\n",
    "print(lst)"
   ]
  },
  {
   "cell_type": "markdown",
   "metadata": {},
   "source": [
    "`Медиана` - это \"середина\" выборки, т.е. в выборке должно быть одинаковое количество значений, меньше или равно и больше или равно, чем медиана. В примере [1, 1, 2] правильный ответ 1, т.к. есть еще одна 1-ца, которая меньше или равна 1-це и 2-ка, которая больше или равна 1-це."
   ]
  },
  {
   "cell_type": "code",
   "execution_count": 14,
   "metadata": {},
   "outputs": [],
   "source": [
    "def mediana(lst):\n",
    "    lst.sort()\n",
    "    return lst[len(lst)//2]"
   ]
  },
  {
   "cell_type": "code",
   "execution_count": 25,
   "metadata": {},
   "outputs": [
    {
     "name": "stdout",
     "output_type": "stream",
     "text": [
      "1\n"
     ]
    }
   ],
   "source": [
    "print(mediana([1, 1, 2]))"
   ]
  },
  {
   "cell_type": "code",
   "execution_count": 26,
   "metadata": {
    "scrolled": true
   },
   "outputs": [
    {
     "name": "stdout",
     "output_type": "stream",
     "text": [
      "3\n"
     ]
    }
   ],
   "source": [
    "print(mediana([3, 2, 5, 1, 4]))"
   ]
  },
  {
   "cell_type": "code",
   "execution_count": 19,
   "metadata": {},
   "outputs": [
    {
     "name": "stdout",
     "output_type": "stream",
     "text": [
      "1\n"
     ]
    }
   ],
   "source": [
    "print(mediana([0, 0, 1, 5, 1, 10, 8]))"
   ]
  },
  {
   "cell_type": "markdown",
   "metadata": {},
   "source": [
    "# Задача 3\n",
    "\n",
    "Создать функцию, на вход ей передать список. Переставить соседние элементы списка местами в случае, если предшествующий элемент БОЛЬШЕ последующего. Вернуть получившийся список с помощью `return`.\n",
    "\n",
    "Пример:\n",
    "\n",
    "вход [3, 1, 2, 4, 6, 1] => результат [1, 3, 2, 4, 1, 6]\n",
    "\n",
    "**Внимание!** Может быть нечетное кол-во элементов в списке!"
   ]
  },
  {
   "cell_type": "code",
   "execution_count": 37,
   "metadata": {},
   "outputs": [],
   "source": [
    "# функция по примеру выполняет перестановку между парами соседей\n",
    "def big_neighbor(lst):\n",
    "    for i in range(0, len(lst)-1, 2):\n",
    "        if lst[i] > lst[i+1]:\n",
    "            lst[i], lst[i+1] = lst[i+1], lst[i]\n",
    "    return lst"
   ]
  },
  {
   "cell_type": "code",
   "execution_count": 41,
   "metadata": {},
   "outputs": [],
   "source": [
    "# функция выполняет перестановку двух соседей последовательно \n",
    "def big_neighbor_new(lst):\n",
    "    for i in range(len(lst)-1):\n",
    "        if lst[i] > lst[i+1]:\n",
    "            lst[i], lst[i+1] = lst[i+1], lst[i]\n",
    "    return lst"
   ]
  },
  {
   "cell_type": "code",
   "execution_count": 42,
   "metadata": {},
   "outputs": [
    {
     "name": "stdout",
     "output_type": "stream",
     "text": [
      "[1, 3, 2, 4, 1, 6, 3]\n",
      "[1, 2, 3, 4, 1, 3, 6]\n"
     ]
    }
   ],
   "source": [
    "print(big_neighbor([3, 1, 2, 4, 6, 1, 3]))\n",
    "print(big_neighbor_new([3, 1, 2, 4, 6, 1, 3]))"
   ]
  },
  {
   "cell_type": "markdown",
   "metadata": {},
   "source": [
    "# Задача 4*\n",
    "\n",
    "Написать функцию, которая на вход принимает число и выводит его факториал\n",
    "\n",
    "factorial(3) => 1 * 2 * 3 = 6"
   ]
  },
  {
   "cell_type": "code",
   "execution_count": 52,
   "metadata": {},
   "outputs": [],
   "source": [
    "def factorial(n):\n",
    "    if n == 1:\n",
    "        return 1\n",
    "    return n * factorial(n-1)"
   ]
  },
  {
   "cell_type": "code",
   "execution_count": 56,
   "metadata": {},
   "outputs": [
    {
     "name": "stdout",
     "output_type": "stream",
     "text": [
      "6\n"
     ]
    }
   ],
   "source": [
    "print(factorial(3))"
   ]
  },
  {
   "cell_type": "code",
   "execution_count": 57,
   "metadata": {},
   "outputs": [
    {
     "name": "stdout",
     "output_type": "stream",
     "text": [
      "120\n"
     ]
    }
   ],
   "source": [
    "print(factorial(5))"
   ]
  }
 ],
 "metadata": {
  "kernelspec": {
   "display_name": "Python 3",
   "language": "python",
   "name": "python3"
  },
  "language_info": {
   "codemirror_mode": {
    "name": "ipython",
    "version": 3
   },
   "file_extension": ".py",
   "mimetype": "text/x-python",
   "name": "python",
   "nbconvert_exporter": "python",
   "pygments_lexer": "ipython3",
   "version": "3.7.3"
  },
  "pycharm": {
   "stem_cell": {
    "cell_type": "raw",
    "metadata": {
     "collapsed": false
    },
    "source": []
   }
  }
 },
 "nbformat": 4,
 "nbformat_minor": 2
}
