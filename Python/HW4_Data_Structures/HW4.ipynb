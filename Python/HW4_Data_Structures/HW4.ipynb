{
 "cells": [
  {
   "cell_type": "markdown",
   "metadata": {},
   "source": [
    "# Задача 1\n",
    "\n",
    "1. Найти имена, которые входят в первый список, но не входят во второй список\n",
    "2. Найти имена, которые входят во второй список, но не входят в первый список\n",
    "3. Найти имена, которые входят в оба списка\n",
    "4. Найти имена, которые не входят в оба списка"
   ]
  },
  {
   "cell_type": "code",
   "execution_count": 12,
   "metadata": {},
   "outputs": [],
   "source": [
    "list_1 = [\n",
    "    'Светлана',\n",
    "    'Мария',\n",
    "    'Игорь',\n",
    "    'Илья',\n",
    "    'Олег'\n",
    "]"
   ]
  },
  {
   "cell_type": "code",
   "execution_count": 13,
   "metadata": {},
   "outputs": [],
   "source": [
    "list_2 = [\n",
    "    'Светлана',\n",
    "    'Иван',\n",
    "    'Василиса',\n",
    "    'Олег'\n",
    "]"
   ]
  },
  {
   "cell_type": "code",
   "execution_count": 15,
   "metadata": {
    "scrolled": true
   },
   "outputs": [
    {
     "name": "stdout",
     "output_type": "stream",
     "text": [
      "['Мария', 'Игорь', 'Илья']\n"
     ]
    }
   ],
   "source": [
    "print([i for i in list_1 if i not in list_2])"
   ]
  },
  {
   "cell_type": "code",
   "execution_count": 16,
   "metadata": {
    "scrolled": true
   },
   "outputs": [
    {
     "name": "stdout",
     "output_type": "stream",
     "text": [
      "['Иван', 'Василиса']\n"
     ]
    }
   ],
   "source": [
    "print([i for i in list_2 if i not in list_1])"
   ]
  },
  {
   "cell_type": "code",
   "execution_count": 34,
   "metadata": {},
   "outputs": [
    {
     "name": "stdout",
     "output_type": "stream",
     "text": [
      "['Светлана', 'Олег']\n"
     ]
    }
   ],
   "source": [
    "print([i for i in list_1 if i in list_1 and i in list_2])"
   ]
  },
  {
   "cell_type": "code",
   "execution_count": 35,
   "metadata": {},
   "outputs": [
    {
     "name": "stdout",
     "output_type": "stream",
     "text": [
      "['Мария', 'Игорь', 'Илья', 'Иван', 'Василиса']\n"
     ]
    }
   ],
   "source": [
    "print([i for i in list_1 + list_2 if i not in list_1 or i not in list_2])"
   ]
  },
  {
   "cell_type": "markdown",
   "metadata": {},
   "source": [
    "## Задача 2\n",
    "\n",
    "Ниже задан словарь и заполнен значениями (это вымышленные ученики). В качестве ключей выступают номера телефонов, в качестве значений - словари с полной информацией о человеке. Необходимо сделать:\n",
    "1. Вывести ФИО всех учеников (по одному в каждой строке). Выводить через for\n",
    "2. Посчитать среднюю оценку по группе за каждый месяц (всего было 4 месяца - необходимо вывести 4 числа). Опять же, делаем из предположения, что в словаре может быть очень большое кол-во записей.\n",
    "3. Удалить ученика с самой низкой средней оценкой. Посчитать п.2 по оставшимся."
   ]
  },
  {
   "cell_type": "code",
   "execution_count": 13,
   "metadata": {},
   "outputs": [],
   "source": [
    "# Имя\n",
    "# Фамилия\n",
    "# Пол\n",
    "# Дата рождения\n",
    "# Возраст\n",
    "\n",
    "\n",
    "group = {\n",
    "    '+79291111111':{\n",
    "        'Имя':'Иван',\n",
    "        'Фамилия':'Петров',\n",
    "        'Пол':'м',\n",
    "        'Дата рождения':'01-01-1991',\n",
    "        'Возраст':23,\n",
    "        'Итоговые оценки за месяц':(60, 65, 97, 40),\n",
    "        'Итоговая контрольная':40.7,\n",
    "    },\n",
    "     '+79282222233':{\n",
    "        'Имя':'Матвей',\n",
    "        'Фамилия':'Васильев',\n",
    "        'Пол':'м',\n",
    "        'Дата рождения':'04-09-1996',\n",
    "        'Возраст':20,\n",
    "        'Итоговые оценки за месяц':(70, 75, 67, 40),\n",
    "        'Итоговая контрольная':49.6,\n",
    "    },\n",
    "     '+79264443333':{\n",
    "        'Имя':'Татьяна',\n",
    "        'Фамилия':'Фоменко',\n",
    "        'Пол':'ж',\n",
    "        'Дата рождения':'01-01-1988',\n",
    "        'Возраст':27,\n",
    "        'Итоговые оценки за месяц':(20, 43, 87, 70),\n",
    "        'Итоговая контрольная':70.2,\n",
    "    }\n",
    "}"
   ]
  },
  {
   "cell_type": "code",
   "execution_count": 14,
   "metadata": {
    "scrolled": true
   },
   "outputs": [
    {
     "name": "stdout",
     "output_type": "stream",
     "text": [
      "Иван Петров\n",
      "Матвей Васильев\n",
      "Татьяна Фоменко\n"
     ]
    }
   ],
   "source": [
    "for value in group.values():\n",
    "    print(value['Имя'], value['Фамилия'])"
   ]
  },
  {
   "cell_type": "code",
   "execution_count": 15,
   "metadata": {},
   "outputs": [
    {
     "name": "stdout",
     "output_type": "stream",
     "text": [
      "1 месяц: 50\n",
      "2 месяц: 61\n",
      "3 месяц: 83\n",
      "4 месяц: 50\n"
     ]
    }
   ],
   "source": [
    "# Здесь необходимо было среднюю оценку за месяц, а не среднюю оценку по ученику\n",
    "for index in range(4):\n",
    "    scores = []\n",
    "    for value in group.values():\n",
    "        score = value['Итоговые оценки за месяц'][index]\n",
    "        scores.append(score)\n",
    "    print(index + 1, 'месяц:', sum(scores) // len(scores))"
   ]
  },
  {
   "cell_type": "code",
   "execution_count": 16,
   "metadata": {},
   "outputs": [
    {
     "name": "stdout",
     "output_type": "stream",
     "text": [
      "1 месяц: 65\n",
      "2 месяц: 70\n",
      "3 месяц: 82\n",
      "4 месяц: 40\n"
     ]
    }
   ],
   "source": [
    "scores = []\n",
    "low = 101\n",
    "for key, value in group.items():\n",
    "    scores = value['Итоговые оценки за месяц']\n",
    "    if sum(scores) // len(scores) < low:\n",
    "        key_min = key\n",
    "del group[key_min]\n",
    "# Необходимо повторить пункт 2\n",
    "for index in range(4):\n",
    "    scores = []\n",
    "    for value in group.values():\n",
    "        score = value['Итоговые оценки за месяц'][index]\n",
    "        scores.append(score)\n",
    "    print(index + 1, 'месяц:', sum(scores) // len(scores))"
   ]
  },
  {
   "cell_type": "markdown",
   "metadata": {},
   "source": [
    "# Задача 3\n",
    "\n",
    "У вас есть список списков, в первом элементе которых лежат наименования страны, в нескольких других ячейках следом - города.\n",
    "\n",
    "Вам необходимо преобразовать его в словарь так, чтобы при обращении по городу выдавалась страна, к которой данный город принадлежит.\n",
    "\n",
    "**Пример:**"
   ]
  },
  {
   "cell_type": "code",
   "execution_count": 8,
   "metadata": {},
   "outputs": [],
   "source": [
    "lst = [\n",
    "    ['Russia', 'Moscow', 'Petersburg', 'Novgorod', 'Kaluga'],\n",
    "    ['Ukraine', 'Kiev', 'Donetsk', 'Odessa']\n",
    "]"
   ]
  },
  {
   "cell_type": "code",
   "execution_count": 9,
   "metadata": {},
   "outputs": [
    {
     "name": "stdout",
     "output_type": "stream",
     "text": [
      "{'Moscow': 'Russia', 'Petersburg': 'Russia', 'Novgorod': 'Russia', 'Kaluga': 'Russia', 'Kiev': 'Ukraine', 'Donetsk': 'Ukraine', 'Odessa': 'Ukraine'}\n"
     ]
    }
   ],
   "source": [
    "dct_1 = {lst[i][j]: lst[i][0] for i in range(0, len(lst)) for j in range(1, len(lst[i])) }\n",
    "print(dct_1)"
   ]
  },
  {
   "cell_type": "markdown",
   "metadata": {},
   "source": [
    "По обращению  \n",
    "`dct_1[\"Moscow\"]` я должен получить вывод `Russia`\n",
    "\n",
    "А по обращению  \n",
    "`dct_1[\"Odessa\"]` - должен получить вывод `Ukraine`"
   ]
  },
  {
   "cell_type": "code",
   "execution_count": 100,
   "metadata": {},
   "outputs": [
    {
     "name": "stdout",
     "output_type": "stream",
     "text": [
      "Russia\n"
     ]
    }
   ],
   "source": [
    "print(dct_1[\"Moscow\"])"
   ]
  },
  {
   "cell_type": "code",
   "execution_count": 101,
   "metadata": {},
   "outputs": [
    {
     "name": "stdout",
     "output_type": "stream",
     "text": [
      "Ukraine\n"
     ]
    }
   ],
   "source": [
    "print(dct_1[\"Odessa\"])"
   ]
  }
 ],
 "metadata": {
  "kernelspec": {
   "display_name": "Python 3",
   "language": "python",
   "name": "python3"
  },
  "language_info": {
   "codemirror_mode": {
    "name": "ipython",
    "version": 3
   },
   "file_extension": ".py",
   "mimetype": "text/x-python",
   "name": "python",
   "nbconvert_exporter": "python",
   "pygments_lexer": "ipython3",
   "version": "3.7.3"
  }
 },
 "nbformat": 4,
 "nbformat_minor": 2
}
