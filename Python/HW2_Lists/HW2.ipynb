{
 "cells": [
  {
   "cell_type": "markdown",
   "metadata": {},
   "source": [
    "## Задача 1\n",
    "Напишите программу, которая:\n",
    "1. Создать пустой список\n",
    "2. Создать ссылку на список\n",
    "3. Создать копию списка (2)\n",
    "4. Считать число из консоли (input)\n",
    "5. Добавить число в список(именно число, возможно float)\n",
    "6. Вывести сумму, максимальное, минимальное число и длину списка\n",
    "5. Повторить 4-6 пункты 4 раза(5 пункт должен был каждый раз разным способом)\n",
    "6. Добавить 2 и 3 элементы (1) в (3)\n",
    "7. Вывести списки"
   ]
  },
  {
   "cell_type": "code",
   "execution_count": 16,
   "metadata": {},
   "outputs": [],
   "source": [
    "lst = [1, 2, 3, 4, 5]\n",
    "lst1 = lst\n",
    "lst2 = list(lst1)"
   ]
  },
  {
   "cell_type": "code",
   "execution_count": 17,
   "metadata": {},
   "outputs": [
    {
     "name": "stdout",
     "output_type": "stream",
     "text": [
      "Введите число: 6\n"
     ]
    }
   ],
   "source": [
    "n = float(input('Введите число: '))"
   ]
  },
  {
   "cell_type": "code",
   "execution_count": 18,
   "metadata": {},
   "outputs": [
    {
     "name": "stdout",
     "output_type": "stream",
     "text": [
      "21.0\n",
      "6.0\n",
      "1\n",
      "6\n"
     ]
    }
   ],
   "source": [
    "lst.append(n)\n",
    "print(sum(lst))\n",
    "print(max(lst))\n",
    "print(min(lst))\n",
    "print(len(lst))"
   ]
  },
  {
   "cell_type": "code",
   "execution_count": 20,
   "metadata": {},
   "outputs": [
    {
     "name": "stdout",
     "output_type": "stream",
     "text": [
      "Введите число: 7\n",
      "28.0\n",
      "7.0\n",
      "1\n",
      "7\n"
     ]
    }
   ],
   "source": [
    "n = float(input('Введите число: '))\n",
    "lst += [n]\n",
    "print(sum(lst))\n",
    "print(max(lst))\n",
    "print(min(lst))\n",
    "print(len(lst))"
   ]
  },
  {
   "cell_type": "code",
   "execution_count": 21,
   "metadata": {},
   "outputs": [
    {
     "name": "stdout",
     "output_type": "stream",
     "text": [
      "Введите число: 8\n",
      "36.0\n",
      "8.0\n",
      "1\n",
      "8\n"
     ]
    }
   ],
   "source": [
    "n = float(input('Введите число: '))\n",
    "lst.extend([n])\n",
    "print(sum(lst))\n",
    "print(max(lst))\n",
    "print(min(lst))\n",
    "print(len(lst))"
   ]
  },
  {
   "cell_type": "code",
   "execution_count": 22,
   "metadata": {},
   "outputs": [
    {
     "name": "stdout",
     "output_type": "stream",
     "text": [
      "Введите число: 9\n",
      "45.0\n",
      "9.0\n",
      "1\n",
      "9\n"
     ]
    }
   ],
   "source": [
    "n = float(input('Введите число: '))\n",
    "lst[100:] = [n]\n",
    "print(sum(lst))\n",
    "print(max(lst))\n",
    "print(min(lst))\n",
    "print(len(lst))"
   ]
  },
  {
   "cell_type": "code",
   "execution_count": 24,
   "metadata": {},
   "outputs": [
    {
     "name": "stdout",
     "output_type": "stream",
     "text": [
      "[1, 2, 3, 4, 5, 6.0, 7.0, 8.0, 9.0]\n",
      "[1, 2, 3, 4, 5, 6.0, 7.0, 8.0, 9.0]\n",
      "[1, 2, 3, 4, 5, 2, 3]\n"
     ]
    }
   ],
   "source": [
    "lst2.extend([lst[1], lst[2]])\n",
    "print(lst)\n",
    "print(lst1)\n",
    "print(lst2)"
   ]
  },
  {
   "cell_type": "markdown",
   "metadata": {},
   "source": [
    "## Задача 2\n",
    "1. Создать пустой список\n",
    "2. Добавить пустой список в пустой список\n",
    "3. Сделать копию списка\n",
    "4. Добавить во внутренний список элемент\n",
    "5. Вывести оба списка"
   ]
  },
  {
   "cell_type": "code",
   "execution_count": 46,
   "metadata": {},
   "outputs": [],
   "source": [
    "ls = []"
   ]
  },
  {
   "cell_type": "code",
   "execution_count": 47,
   "metadata": {},
   "outputs": [],
   "source": [
    "ls1 = list([ls])"
   ]
  },
  {
   "cell_type": "code",
   "execution_count": 48,
   "metadata": {},
   "outputs": [],
   "source": [
    "ls2 = list(ls1)"
   ]
  },
  {
   "cell_type": "code",
   "execution_count": 49,
   "metadata": {},
   "outputs": [],
   "source": [
    "ls += [1]"
   ]
  },
  {
   "cell_type": "code",
   "execution_count": 50,
   "metadata": {
    "scrolled": true
   },
   "outputs": [
    {
     "name": "stdout",
     "output_type": "stream",
     "text": [
      "[[1]]\n",
      "[[1]]\n"
     ]
    }
   ],
   "source": [
    "print(ls1)\n",
    "print(ls2)"
   ]
  }
 ],
 "metadata": {
  "kernelspec": {
   "display_name": "Python 3",
   "language": "python",
   "name": "python3"
  },
  "language_info": {
   "codemirror_mode": {
    "name": "ipython",
    "version": 3
   },
   "file_extension": ".py",
   "mimetype": "text/x-python",
   "name": "python",
   "nbconvert_exporter": "python",
   "pygments_lexer": "ipython3",
   "version": "3.7.3"
  },
  "pycharm": {
   "stem_cell": {
    "cell_type": "raw",
    "metadata": {
     "collapsed": false
    },
    "source": []
   }
  }
 },
 "nbformat": 4,
 "nbformat_minor": 2
}
