{
 "cells": [
  {
   "cell_type": "markdown",
   "metadata": {},
   "source": [
    "1) Создать два списка: positive, negative.\n",
    "\n",
    "2) В цикле использую input получить 10 чисел и если число положительное добавить в positive,\n",
    "отрицательное в negative\n",
    "\n",
    "3) Не использую min, max найти максимальный элемент в positive, и минимальный в negative\n",
    "\n",
    "4) Вывести максимальный и минимальный элементы\n",
    "\n",
    "5) Вывести максимальный по модулю элемент из этих двух\n",
    "\n",
    "6) Отсортировать список positive, и создать новый список содержащий отсортированные элементы negative(copy_negative)\n",
    "\n",
    "7) Каждому элементу copy_negative изменить знак с  '-' на '+'\n",
    "\n",
    "8) Сравнить первый, второй, третий ... элемент positive и copy_negative и вывести одно из утверждений больше: Элемент из positive больше, Элемент из copy_negative больше, Элементы равны"
   ]
  },
  {
   "cell_type": "code",
   "execution_count": 57,
   "metadata": {},
   "outputs": [
    {
     "name": "stdout",
     "output_type": "stream",
     "text": [
      "Введите 1 число:1\n",
      "Введите 2 число:2\n",
      "Введите 3 число:3\n",
      "Введите 4 число:4\n",
      "Введите 5 число:5\n",
      "Введите 6 число:-1\n",
      "Введите 7 число:-3\n",
      "Введите 8 число:-2\n",
      "Введите 9 число:-5\n",
      "Введите 10 число:-4\n"
     ]
    }
   ],
   "source": [
    "positive =[]\n",
    "negative =[]\n",
    "mx = 0\n",
    "mn = 0\n",
    "for i in range(10):\n",
    "    n = int(input(f'Введите {i+1} число:'))\n",
    "    if n > 0:\n",
    "        positive.append(n)\n",
    "        if n > mx:\n",
    "            mx = n\n",
    "    elif n < 0:\n",
    "        negative.append(n)\n",
    "        if n < mn:\n",
    "            mn = n"
   ]
  },
  {
   "cell_type": "code",
   "execution_count": 58,
   "metadata": {},
   "outputs": [
    {
     "name": "stdout",
     "output_type": "stream",
     "text": [
      "5\n",
      "-5\n"
     ]
    }
   ],
   "source": [
    "print(mx)\n",
    "print(mn)"
   ]
  },
  {
   "cell_type": "code",
   "execution_count": 59,
   "metadata": {},
   "outputs": [
    {
     "name": "stdout",
     "output_type": "stream",
     "text": [
      "5\n"
     ]
    }
   ],
   "source": [
    "if abs(mx) > abs(mn):\n",
    "    print(mx)\n",
    "else:\n",
    "    print(abs(mn))"
   ]
  },
  {
   "cell_type": "code",
   "execution_count": 60,
   "metadata": {},
   "outputs": [],
   "source": [
    "positive.sort()\n",
    "copy_negative = sorted(negative)"
   ]
  },
  {
   "cell_type": "code",
   "execution_count": 61,
   "metadata": {
    "scrolled": true
   },
   "outputs": [],
   "source": [
    "for i in range((len(copy_negative)-1)):\n",
    "    copy_negative[i] *= -1"
   ]
  },
  {
   "cell_type": "code",
   "execution_count": 62,
   "metadata": {},
   "outputs": [
    {
     "name": "stdout",
     "output_type": "stream",
     "text": [
      "[1, 2, 3, 4, 5]\n",
      "[-1, -3, -2, -5, -4]\n",
      "[5, 4, 3, 2, -1]\n"
     ]
    }
   ],
   "source": [
    "print(positive)\n",
    "print(negative)\n",
    "print(copy_negative)"
   ]
  },
  {
   "cell_type": "code",
   "execution_count": 63,
   "metadata": {},
   "outputs": [
    {
     "name": "stdout",
     "output_type": "stream",
     "text": [
      "Элемент из copy_negative больше\n",
      "Элемент из copy_negative больше\n",
      "Элементы равны\n",
      "Элемент из positive больше\n",
      "Элемент из positive больше\n"
     ]
    }
   ],
   "source": [
    "for i,j in zip(positive, copy_negative):\n",
    "    if i > j: \n",
    "        print(f'Элемент из positive больше')\n",
    "    elif i < j:\n",
    "        print(f'Элемент из copy_negative больше')\n",
    "    else:\n",
    "        print('Элементы равны')"
   ]
  },
  {
   "cell_type": "markdown",
   "metadata": {},
   "source": [
    "1) Создать матрицу matrix 3Х3 ([[1,2,3], [4,5,6], [7,8,9]])(Значения лучше выбрать другие)\n",
    "\n",
    "2) Преобразовать матрицу в np.array (np_matrix)\n",
    "\n",
    "3) Найти максимум и минимум в матрице(попробовать фунции np.max, np.min и без их использования)\n",
    "\n",
    "4) Что делает метод np_matrix.T\n",
    "\n",
    "5) Вывести первую строчку матрицы\n",
    "\n",
    "6) Вывести второй столбец матрицы(можно передавать несколько индексов np_matrix[0, 0] - выведет первый элемент)\n",
    "(Лучше не использовать транспонирование)\n",
    "\n",
    "7) Найти логарифм по основанию 10 каждого элемента матрицы(np.log10)"
   ]
  },
  {
   "cell_type": "code",
   "execution_count": 25,
   "metadata": {},
   "outputs": [],
   "source": [
    "import numpy as np"
   ]
  },
  {
   "cell_type": "code",
   "execution_count": 26,
   "metadata": {},
   "outputs": [],
   "source": [
    "matrix = [[3,4,9], [8,1,2], [7,5,6]]"
   ]
  },
  {
   "cell_type": "code",
   "execution_count": 27,
   "metadata": {},
   "outputs": [],
   "source": [
    "np_matrix = np.array(matrix)"
   ]
  },
  {
   "cell_type": "code",
   "execution_count": 41,
   "metadata": {},
   "outputs": [
    {
     "name": "stdout",
     "output_type": "stream",
     "text": [
      "9\n",
      "1\n"
     ]
    }
   ],
   "source": [
    "print(np.max(np_matrix))\n",
    "print(np.min(np_matrix))"
   ]
  },
  {
   "cell_type": "code",
   "execution_count": 45,
   "metadata": {},
   "outputs": [
    {
     "name": "stdout",
     "output_type": "stream",
     "text": [
      "9\n",
      "1\n"
     ]
    }
   ],
   "source": [
    "print(max(max(i) for i in matrix))\n",
    "print(min(min(i) for i in matrix))"
   ]
  },
  {
   "cell_type": "code",
   "execution_count": 47,
   "metadata": {},
   "outputs": [
    {
     "name": "stdout",
     "output_type": "stream",
     "text": [
      "[[3 8 7]\n",
      " [4 1 5]\n",
      " [9 2 6]]\n"
     ]
    }
   ],
   "source": [
    "print(np_matrix.T) # транспонирование матрицы"
   ]
  },
  {
   "cell_type": "code",
   "execution_count": 49,
   "metadata": {},
   "outputs": [
    {
     "name": "stdout",
     "output_type": "stream",
     "text": [
      "[3, 4, 9]\n",
      "[3 4 9]\n"
     ]
    }
   ],
   "source": [
    "print(matrix[0])\n",
    "print(np_matrix[0])"
   ]
  },
  {
   "cell_type": "code",
   "execution_count": 54,
   "metadata": {},
   "outputs": [
    {
     "name": "stdout",
     "output_type": "stream",
     "text": [
      "[4 1 5]\n"
     ]
    }
   ],
   "source": [
    "print(np_matrix[:, 1])"
   ]
  },
  {
   "cell_type": "code",
   "execution_count": 56,
   "metadata": {},
   "outputs": [
    {
     "name": "stdout",
     "output_type": "stream",
     "text": [
      "[[0.47712125 0.60205999 0.95424251]\n",
      " [0.90308999 0.         0.30103   ]\n",
      " [0.84509804 0.69897    0.77815125]]\n"
     ]
    }
   ],
   "source": [
    "print(np.log10(np_matrix))"
   ]
  }
 ],
 "metadata": {
  "kernelspec": {
   "display_name": "Python 3",
   "language": "python",
   "name": "python3"
  },
  "language_info": {
   "codemirror_mode": {
    "name": "ipython",
    "version": 3
   },
   "file_extension": ".py",
   "mimetype": "text/x-python",
   "name": "python",
   "nbconvert_exporter": "python",
   "pygments_lexer": "ipython3",
   "version": "3.7.3"
  }
 },
 "nbformat": 4,
 "nbformat_minor": 2
}
