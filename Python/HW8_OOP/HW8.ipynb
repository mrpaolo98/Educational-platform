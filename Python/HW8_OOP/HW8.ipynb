{
 "cells": [
  {
   "cell_type": "markdown",
   "metadata": {},
   "source": [
    "### Создать класс Figure, с методами square -> возвращающий площадь, __init__ принимающий x, y. "
   ]
  },
  {
   "cell_type": "code",
   "execution_count": 38,
   "metadata": {},
   "outputs": [],
   "source": [
    "class Figure:\n",
    "    \n",
    "    def __init__(self, x, y):\n",
    "        self.x = x\n",
    "        self.y = y\n",
    "        \n",
    "    def square(self):\n",
    "        return self.x * self.y"
   ]
  },
  {
   "cell_type": "markdown",
   "metadata": {},
   "source": [
    "### Создать наследников Figure: Circle(x, y, radius), Rectangle(x, y, width, length), Square(x, y, length)"
   ]
  },
  {
   "cell_type": "code",
   "execution_count": 39,
   "metadata": {},
   "outputs": [],
   "source": [
    "class Circle(Figure):\n",
    "    \n",
    "    def __init__(self, x, y, radius):\n",
    "        super().__init__(x, y)\n",
    "        self.radius = radius\n",
    "    \n",
    "class Rectangle(Figure):\n",
    "    \n",
    "    def __init__(self, x, y, width, length):\n",
    "        super().__init__(x, y)\n",
    "        self.width = width\n",
    "        self.length = length\n",
    "    \n",
    "class Square(Figure):\n",
    "    \n",
    "    def __init__(self, x, y, length):\n",
    "        super().__init__(x, y)\n",
    "        self.length = length"
   ]
  },
  {
   "cell_type": "markdown",
   "metadata": {},
   "source": [
    "###  Создать функцию которая принимает список фигур и возвращает отсортированный список по уменьшению периметра фигур, если передать не фигуру, должно быть исключение TypeError"
   ]
  },
  {
   "cell_type": "code",
   "execution_count": 40,
   "metadata": {},
   "outputs": [],
   "source": [
    "def sort_figures(figures) -> Figure:\n",
    "    \n",
    "    for item in figures:\n",
    "        if not isinstance(item, Figure):\n",
    "            raise TypeError('Need Figure')\n",
    "        \n",
    "    figures.sort(key=lambda x: x.square(), reverse=True)\n",
    "    return figures"
   ]
  },
  {
   "cell_type": "code",
   "execution_count": 41,
   "metadata": {},
   "outputs": [],
   "source": [
    "circle1 = Circle(1,2,5)\n",
    "rectangle1 = Rectangle(0,0,13,32)\n",
    "square1 = Square(2,3,7)"
   ]
  },
  {
   "cell_type": "code",
   "execution_count": 42,
   "metadata": {},
   "outputs": [
    {
     "data": {
      "text/plain": [
       "[<__main__.Square at 0x245cfb282b0>,\n",
       " <__main__.Circle at 0x245cfb28a58>,\n",
       " <__main__.Rectangle at 0x245cfb28898>]"
      ]
     },
     "execution_count": 42,
     "metadata": {},
     "output_type": "execute_result"
    }
   ],
   "source": [
    "sort_figures([Circle(1,2,5), Rectangle(0,0,13,32), Square(2,3,7)])"
   ]
  },
  {
   "cell_type": "markdown",
   "metadata": {},
   "source": [
    "### Создать файл с названием json содержащий текст ниже"
   ]
  },
  {
   "cell_type": "code",
   "execution_count": 43,
   "metadata": {},
   "outputs": [],
   "source": [
    "json_data = '[{\"type\": \"Circle\", \"x\": 0, \"y\": 0, \"radius\": 5}, {\"type\": \"Rectangle\", \"x\": 1, \"y\": 2, \"width\": 2, \"length\": 7}, {\"type\": \"Square\", \"x\": 10, \"y\": -5, \"length\": 3}, {\"type\": \"Circle\", \"x\": 1, \"y\": 2, \"radius\": 10}, {\"type\": \"Rectangle\", \"x\": 0, \"y\": 6, \"width\": 3, \"length\": 2}]'"
   ]
  },
  {
   "cell_type": "code",
   "execution_count": 44,
   "metadata": {},
   "outputs": [
    {
     "data": {
      "text/plain": [
       "'[{\"type\": \"Circle\", \"x\": 0, \"y\": 0, \"radius\": 5}, {\"type\": \"Rectangle\", \"x\": 1, \"y\": 2, \"width\": 2, \"length\": 7}, {\"type\": \"Square\", \"x\": 10, \"y\": -5, \"length\": 3}, {\"type\": \"Circle\", \"x\": 1, \"y\": 2, \"radius\": 10}, {\"type\": \"Rectangle\", \"x\": 0, \"y\": 6, \"width\": 3, \"length\": 2}]'"
      ]
     },
     "execution_count": 44,
     "metadata": {},
     "output_type": "execute_result"
    }
   ],
   "source": [
    "json_data"
   ]
  },
  {
   "cell_type": "code",
   "execution_count": 45,
   "metadata": {},
   "outputs": [],
   "source": [
    "import json"
   ]
  },
  {
   "cell_type": "code",
   "execution_count": 46,
   "metadata": {},
   "outputs": [],
   "source": [
    "with open('json.json', 'w') as file_json:\n",
    "    json.dump(json_data, file_json)\n"
   ]
  },
  {
   "cell_type": "code",
   "execution_count": 47,
   "metadata": {},
   "outputs": [
    {
     "name": "stdout",
     "output_type": "stream",
     "text": [
      "[{\"type\": \"Circle\", \"x\": 0, \"y\": 0, \"radius\": 5}, {\"type\": \"Rectangle\", \"x\": 1, \"y\": 2, \"width\": 2, \"length\": 7}, {\"type\": \"Square\", \"x\": 10, \"y\": -5, \"length\": 3}, {\"type\": \"Circle\", \"x\": 1, \"y\": 2, \"radius\": 10}, {\"type\": \"Rectangle\", \"x\": 0, \"y\": 6, \"width\": 3, \"length\": 2}]\n"
     ]
    }
   ],
   "source": [
    "with open('json.json', 'r') as file_json:\n",
    "    print(json.load(file_json))"
   ]
  },
  {
   "cell_type": "markdown",
   "metadata": {},
   "source": [
    "### Создать функцию которая принимает список словарей(пример выше и возвращает список фигур)"
   ]
  },
  {
   "cell_type": "code",
   "execution_count": 63,
   "metadata": {},
   "outputs": [],
   "source": [
    "# не нашел способа вернуть из функции список объектов, а не строк\n",
    "def get_figures(data):\n",
    "    pass"
   ]
  },
  {
   "cell_type": "code",
   "execution_count": 64,
   "metadata": {},
   "outputs": [],
   "source": [
    "import json\n",
    "\n",
    "with open('json.json', 'r') as file_json:\n",
    "    data = json.load(file_json)\n",
    "figures = get_figures(data)\n",
    "#sorted_figures = sort_figures(figures) # выполнить этот код"
   ]
  },
  {
   "cell_type": "code",
   "execution_count": 65,
   "metadata": {},
   "outputs": [
    {
     "ename": "NameError",
     "evalue": "name 'sorted_figures' is not defined",
     "output_type": "error",
     "traceback": [
      "\u001b[1;31m---------------------------------------------------------------------------\u001b[0m",
      "\u001b[1;31mNameError\u001b[0m                                 Traceback (most recent call last)",
      "\u001b[1;32m<ipython-input-65-68c94f635b59>\u001b[0m in \u001b[0;36m<module>\u001b[1;34m\u001b[0m\n\u001b[1;32m----> 1\u001b[1;33m \u001b[0msorted_figures\u001b[0m \u001b[1;31m# должен вернуть примерно то что ниже\u001b[0m\u001b[1;33m\u001b[0m\u001b[1;33m\u001b[0m\u001b[0m\n\u001b[0m",
      "\u001b[1;31mNameError\u001b[0m: name 'sorted_figures' is not defined"
     ]
    }
   ],
   "source": [
    "sorted_figures # должен вернуть примерно то что ниже"
   ]
  },
  {
   "cell_type": "code",
   "execution_count": null,
   "metadata": {},
   "outputs": [],
   "source": []
  }
 ],
 "metadata": {
  "kernelspec": {
   "display_name": "Python 3",
   "language": "python",
   "name": "python3"
  },
  "language_info": {
   "codemirror_mode": {
    "name": "ipython",
    "version": 3
   },
   "file_extension": ".py",
   "mimetype": "text/x-python",
   "name": "python",
   "nbconvert_exporter": "python",
   "pygments_lexer": "ipython3",
   "version": "3.7.3"
  }
 },
 "nbformat": 4,
 "nbformat_minor": 2
}
