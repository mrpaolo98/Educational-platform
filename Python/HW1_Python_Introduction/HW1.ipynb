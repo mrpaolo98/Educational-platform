{
 "cells": [
  {
   "cell_type": "markdown",
   "metadata": {},
   "source": [
    "# Задача 1\n",
    "1. Попросить человека ввести с клавиатуры ежегодный процент по депозиту\n",
    "2. Поросить человека ввести сумму депозита\n",
    "3. Попросить человека ввести срок депозита в месяцах\n",
    "4. Рассчитать прибыль с депозита к концу указанного периода, учитывая, что проценты капитализируются ежемесячно.\n",
    "Необходимо использовать формулу сложных процентов"
   ]
  },
  {
   "cell_type": "code",
   "execution_count": 32,
   "metadata": {},
   "outputs": [
    {
     "name": "stdout",
     "output_type": "stream",
     "text": [
      "Введите ежегодный процент: 12\n"
     ]
    }
   ],
   "source": [
    "prcnt = float(input('Введите ежегодный процент: ')) / 100"
   ]
  },
  {
   "cell_type": "code",
   "execution_count": 33,
   "metadata": {},
   "outputs": [
    {
     "name": "stdout",
     "output_type": "stream",
     "text": [
      "Введите сумму депозита: 100000\n"
     ]
    }
   ],
   "source": [
    "s = int(input('Введите сумму депозита: '))"
   ]
  },
  {
   "cell_type": "code",
   "execution_count": 34,
   "metadata": {},
   "outputs": [
    {
     "name": "stdout",
     "output_type": "stream",
     "text": [
      "Введите срок депозита в месяцах: 12\n"
     ]
    }
   ],
   "source": [
    "term = int(input('Введите срок депозита в месяцах: '))"
   ]
  },
  {
   "cell_type": "code",
   "execution_count": 43,
   "metadata": {},
   "outputs": [
    {
     "name": "stdout",
     "output_type": "stream",
     "text": [
      "Прибыль с депозита:  12682.5 Р\n"
     ]
    }
   ],
   "source": [
    "res = s*(1+(prcnt/12))**term - s\n",
    "print('Прибыль с депозита: ', round(res, 2))"
   ]
  },
  {
   "cell_type": "markdown",
   "metadata": {},
   "source": [
    "# Задача 2\n",
    "\n",
    "Дано три числа. Найти количество положительных чисел среди них (НЕ используя логические ветвления IF!), пользуясь только тем, что было изучено на занятии. Подсказка ниже"
   ]
  },
  {
   "cell_type": "code",
   "execution_count": 5,
   "metadata": {},
   "outputs": [
    {
     "name": "stdout",
     "output_type": "stream",
     "text": [
      "Введите три числа:\n",
      "a = 2\n",
      "b = 3\n",
      "c = -1\n"
     ]
    }
   ],
   "source": [
    "a = int(input('Введите три числа:\\na = '))\n",
    "b = int(input('b = '))\n",
    "c = int(input('c = '))"
   ]
  },
  {
   "cell_type": "code",
   "execution_count": 6,
   "metadata": {},
   "outputs": [],
   "source": [
    "cnt = 0\n",
    "cnt += int(a > 0)\n",
    "cnt += int(b > 0)\n",
    "cnt += int(c > 0)"
   ]
  },
  {
   "cell_type": "code",
   "execution_count": 7,
   "metadata": {},
   "outputs": [
    {
     "name": "stdout",
     "output_type": "stream",
     "text": [
      "Количество положительных чисел 2\n"
     ]
    }
   ],
   "source": [
    "print('Количество положительных чисел:', cnt)"
   ]
  },
  {
   "cell_type": "markdown",
   "metadata": {},
   "source": [
    "# Задача 3\n",
    "1. Вывести уравнение прямой ``y = k * x + b``, если известны 2 точки: `(x1 = 3, y1 = 1)`, `(x2 = -1, y2 = -2)`\n",
    "2. Сделать так, чтобы можно было вводить координаты обеих точек с клавиатуры (функция input)"
   ]
  },
  {
   "cell_type": "code",
   "execution_count": 13,
   "metadata": {},
   "outputs": [
    {
     "name": "stdout",
     "output_type": "stream",
     "text": [
      "x1: 2\n",
      "y1: 3\n"
     ]
    }
   ],
   "source": [
    "x1= int(input('x1: ')) \n",
    "y1 = int(input('y1: '))"
   ]
  },
  {
   "cell_type": "code",
   "execution_count": 14,
   "metadata": {},
   "outputs": [
    {
     "name": "stdout",
     "output_type": "stream",
     "text": [
      "x2: 5\n",
      "y2: 6\n"
     ]
    }
   ],
   "source": [
    "x2= int(input('x2: ')) \n",
    "y2 = int(input('y2: '))"
   ]
  },
  {
   "cell_type": "code",
   "execution_count": 15,
   "metadata": {},
   "outputs": [
    {
     "name": "stdout",
     "output_type": "stream",
     "text": [
      "y = 1.00 * x + 1.00\n"
     ]
    }
   ],
   "source": [
    "k = (y1 - y2) / (x1 - x2)\n",
    "b = y1 - k * x1\n",
    "\n",
    "if b < 0:\n",
    "    b = -b\n",
    "    z = '-'\n",
    "else:\n",
    "    z = '+'\n",
    "            \n",
    "print(\"y = %(k).2f * x %(z).c %(b).2f\" % {'k': k, 'z': z, 'b': b})\n",
    "# Когда b отрицательное, немного не правильно показывается "
   ]
  }
 ],
 "metadata": {
  "kernelspec": {
   "display_name": "Python 3",
   "language": "python",
   "name": "python3"
  },
  "language_info": {
   "codemirror_mode": {
    "name": "ipython",
    "version": 3
   },
   "file_extension": ".py",
   "mimetype": "text/x-python",
   "name": "python",
   "nbconvert_exporter": "python",
   "pygments_lexer": "ipython3",
   "version": "3.7.3"
  }
 },
 "nbformat": 4,
 "nbformat_minor": 2
}
